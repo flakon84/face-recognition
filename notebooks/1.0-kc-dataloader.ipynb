{
 "cells": [
  {
   "cell_type": "code",
   "execution_count": 160,
   "metadata": {},
   "outputs": [],
   "source": [
    "import numpy as np\n",
    "import scipy as sp\n",
    "import scipy.io as sio\n",
    "import matplotlib.pyplot as plt\n",
    "from PIL import Image\n",
    "import random as rand\n",
    "import pathlib\n",
    "from shutil import copyfile\n",
    "import os\n",
    "import random\n",
    "from IPython.display import display\n",
    "import imageio"
   ]
  },
  {
   "cell_type": "code",
   "execution_count": 194,
   "metadata": {},
   "outputs": [],
   "source": [
    "DATAPATH = '../data/'\n",
    "\n",
    "# Create data directories\n",
    "pathlib.Path(DATAPATH + 'interim/data').mkdir(parents=True, exist_ok=True)\n",
    "pathlib.Path(DATAPATH + 'interim/illumination').mkdir(parents=True, exist_ok=True)\n",
    "pathlib.Path(DATAPATH + 'interim/pose').mkdir(parents=True, exist_ok=True)\n",
    "pathlib.Path(DATAPATH + 'processed/data').mkdir(parents=True, exist_ok=True)\n",
    "pathlib.Path(DATAPATH + 'processed/illumination').mkdir(parents=True, exist_ok=True)\n",
    "pathlib.Path(DATAPATH + 'processed/pose').mkdir(parents=True, exist_ok=True)\n",
    "\n",
    "# Load illumination: cropped 40x48 (1920px) images of 68 subjects under 21 different illuminations\n",
    "illum_dat = sio.loadmat(DATAPATH + '/raw/illumination.mat')\n",
    "illum_mat = illum_dat['illum']\n",
    "\n",
    "# Recover image from vector\n",
    "def recover_img(v, dim1=40, dim2=48, rotate=270):\n",
    "    rescaled = v.reshape(dim1, dim2).astype(np.uint8)\n",
    "    return Image.fromarray(rescaled).rotate(rotate, expand=True)\n",
    "\n",
    "# Save images as person_67_illum_20.png\n",
    "for illum in range(illum_mat.shape[1]):\n",
    "    for person in range(illum_mat.shape[2]):\n",
    "        # Create class folder\n",
    "        person_no, illum_no = '{0:0=2d}'.format(person), '{0:0=2d}'.format(illum)\n",
    "        pathlib.Path(DATAPATH + 'interim/illumination/person{0}'.format(person_no)).mkdir(parents=True, exist_ok=True)\n",
    "        # Create and save image\n",
    "        img = recover_img(illum_mat[:,illum,person])\n",
    "        filename = 'person{0}_illum{1}.png'.format(person_no, illum_no)\n",
    "        img.save(DATAPATH + 'interim/illumination/person{0}/{1}'.format(person_no, filename))"
   ]
  },
  {
   "cell_type": "code",
   "execution_count": 154,
   "metadata": {},
   "outputs": [],
   "source": [
    "# Check if image is Png\n",
    "def isPng(filename): return filename.endswith(\".png\") and '.ipynb_checkpoints' not in filename\n",
    "\n",
    "# Create test/train split\n",
    "random.seed(999)\n",
    "split = 0.8  # 80% of 21 illuminations will be ceilinged to 17, or ~81%\n",
    "train, test = [], []\n",
    "subdir = DATAPATH + 'interim/illumination/'\n",
    "dirs = next(os.walk(subdir))[1]  # class folders\n",
    "\n",
    "for dir in dirs:\n",
    "    filenames = os.listdir(subdir + dir)\n",
    "    img_filenames = [filename for filename in filenames if isPng(filename)]\n",
    "    img_filepaths = [subdir + dir + os.sep + img_filename for img_filename in img_filenames]\n",
    "    random.shuffle(img_filepaths) # shuffle class images so train/test have same distribution\n",
    "    train = train + img_filepaths[:int(split*len(filenames))]\n",
    "    test = test + img_filepaths[int(split*len(filenames)):]\n",
    "\n",
    "def name_to_int(s):\n",
    "    no_alpha = ''.join(i for i in s if not i.isalpha())\n",
    "    return int(no_alpha)\n",
    "\n",
    "def parse_filename(s): \n",
    "    person, illum = s[:-4].split('_')\n",
    "    return name_to_int(person), name_to_int(illum)\n"
   ]
  },
  {
   "cell_type": "code",
   "execution_count": 196,
   "metadata": {},
   "outputs": [
    {
     "ename": "TypeError",
     "evalue": "'axis' is an invalid keyword argument for this function",
     "output_type": "error",
     "traceback": [
      "\u001b[0;31m---------------------------------------------------------------------------\u001b[0m",
      "\u001b[0;31mTypeError\u001b[0m                                 Traceback (most recent call last)",
      "\u001b[0;32m<ipython-input-196-82445474d51c>\u001b[0m in \u001b[0;36m<module>\u001b[0;34m()\u001b[0m\n\u001b[1;32m      4\u001b[0m     \u001b[0;32mreturn\u001b[0m \u001b[0mimageio\u001b[0m\u001b[0;34m.\u001b[0m\u001b[0mimread\u001b[0m\u001b[0;34m(\u001b[0m\u001b[0mfilepath\u001b[0m\u001b[0;34m)\u001b[0m\u001b[0;34m.\u001b[0m\u001b[0mflatten\u001b[0m\u001b[0;34m(\u001b[0m\u001b[0maxis\u001b[0m\u001b[0;34m=\u001b[0m\u001b[0;36m0\u001b[0m\u001b[0;34m)\u001b[0m\u001b[0;34m\u001b[0m\u001b[0m\n\u001b[1;32m      5\u001b[0m \u001b[0;34m\u001b[0m\u001b[0m\n\u001b[0;32m----> 6\u001b[0;31m \u001b[0mv\u001b[0m \u001b[0;34m=\u001b[0m \u001b[0mload_image\u001b[0m\u001b[0;34m(\u001b[0m\u001b[0mtest\u001b[0m\u001b[0;34m[\u001b[0m\u001b[0;36m0\u001b[0m\u001b[0;34m]\u001b[0m\u001b[0;34m)\u001b[0m\u001b[0;34m\u001b[0m\u001b[0m\n\u001b[0m\u001b[1;32m      7\u001b[0m \u001b[0mrecover_img\u001b[0m\u001b[0;34m(\u001b[0m\u001b[0mv\u001b[0m\u001b[0;34m,\u001b[0m \u001b[0mdim1\u001b[0m\u001b[0;34m=\u001b[0m\u001b[0;36m48\u001b[0m\u001b[0;34m,\u001b[0m \u001b[0mdim2\u001b[0m\u001b[0;34m=\u001b[0m\u001b[0;36m40\u001b[0m\u001b[0;34m,\u001b[0m \u001b[0mrotate\u001b[0m\u001b[0;34m=\u001b[0m\u001b[0;36m0\u001b[0m\u001b[0;34m)\u001b[0m\u001b[0;34m\u001b[0m\u001b[0m\n",
      "\u001b[0;32m<ipython-input-196-82445474d51c>\u001b[0m in \u001b[0;36mload_image\u001b[0;34m(filepath)\u001b[0m\n\u001b[1;32m      2\u001b[0m \u001b[0;34m\u001b[0m\u001b[0m\n\u001b[1;32m      3\u001b[0m \u001b[0;32mdef\u001b[0m \u001b[0mload_image\u001b[0m\u001b[0;34m(\u001b[0m\u001b[0mfilepath\u001b[0m\u001b[0;34m)\u001b[0m\u001b[0;34m:\u001b[0m\u001b[0;34m\u001b[0m\u001b[0m\n\u001b[0;32m----> 4\u001b[0;31m     \u001b[0;32mreturn\u001b[0m \u001b[0mimageio\u001b[0m\u001b[0;34m.\u001b[0m\u001b[0mimread\u001b[0m\u001b[0;34m(\u001b[0m\u001b[0mfilepath\u001b[0m\u001b[0;34m)\u001b[0m\u001b[0;34m.\u001b[0m\u001b[0mflatten\u001b[0m\u001b[0;34m(\u001b[0m\u001b[0maxis\u001b[0m\u001b[0;34m=\u001b[0m\u001b[0;36m0\u001b[0m\u001b[0;34m)\u001b[0m\u001b[0;34m\u001b[0m\u001b[0m\n\u001b[0m\u001b[1;32m      5\u001b[0m \u001b[0;34m\u001b[0m\u001b[0m\n\u001b[1;32m      6\u001b[0m \u001b[0mv\u001b[0m \u001b[0;34m=\u001b[0m \u001b[0mload_image\u001b[0m\u001b[0;34m(\u001b[0m\u001b[0mtest\u001b[0m\u001b[0;34m[\u001b[0m\u001b[0;36m0\u001b[0m\u001b[0;34m]\u001b[0m\u001b[0;34m)\u001b[0m\u001b[0;34m\u001b[0m\u001b[0m\n",
      "\u001b[0;31mTypeError\u001b[0m: 'axis' is an invalid keyword argument for this function"
     ]
    }
   ],
   "source": [
    "# Preprocess images\n",
    "\n",
    "def load_image(filepath):\n",
    "    return imageio.imread(filepath).flatten(axis=0)\n",
    "\n",
    "v = load_image(test[0])\n",
    "recover_img(v, dim1=48, dim2=40, rotate=0)"
   ]
  },
  {
   "cell_type": "code",
   "execution_count": null,
   "metadata": {},
   "outputs": [],
   "source": []
  }
 ],
 "metadata": {
  "kernelspec": {
   "display_name": "Python 3",
   "language": "python",
   "name": "python3"
  },
  "language_info": {
   "codemirror_mode": {
    "name": "ipython",
    "version": 3
   },
   "file_extension": ".py",
   "mimetype": "text/x-python",
   "name": "python",
   "nbconvert_exporter": "python",
   "pygments_lexer": "ipython3",
   "version": "3.6.4"
  }
 },
 "nbformat": 4,
 "nbformat_minor": 2
}
