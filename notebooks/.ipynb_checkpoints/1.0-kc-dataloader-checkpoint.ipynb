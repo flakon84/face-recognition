{
 "cells": [
  {
   "cell_type": "code",
   "execution_count": 90,
   "metadata": {},
   "outputs": [],
   "source": [
    "import numpy as np\n",
    "import scipy as sp\n",
    "import scipy.io as sio\n",
    "import matplotlib.pyplot as plt\n",
    "from PIL import Image\n",
    "import random as rand\n",
    "import pathlib\n",
    "from shutil import copyfile\n",
    "import os\n",
    "import random\n",
    "from IPython.display import display\n",
    "from scipy import misc\n",
    "\n",
    "DATAPATH = '../data/'\n",
    "\n",
    "# Create data directories\n",
    "pathlib.Path(DATAPATH + 'interim/data').mkdir(parents=True, exist_ok=True)\n",
    "pathlib.Path(DATAPATH + 'interim/illumination').mkdir(parents=True, exist_ok=True)\n",
    "pathlib.Path(DATAPATH + 'interim/pose').mkdir(parents=True, exist_ok=True)\n",
    "pathlib.Path(DATAPATH + 'processed/data').mkdir(parents=True, exist_ok=True)\n",
    "pathlib.Path(DATAPATH + 'processed/illumination').mkdir(parents=True, exist_ok=True)\n",
    "pathlib.Path(DATAPATH + 'processed/pose').mkdir(parents=True, exist_ok=True)\n",
    "\n",
    "# Load illumination: cropped 40x48 (1920px) images of 68 subjects under 21 different illuminations\n",
    "illum_dat = sio.loadmat(DATAPATH + '/raw/illumination.mat')\n",
    "illum_mat = illum_dat['illum']\n",
    "\n",
    "# Recover image from vector\n",
    "def recover_img(v, dim1=40, dim2=48, rotate=270):\n",
    "    rescaled = v.reshape(dim1, dim2).astype(np.uint8)\n",
    "    return Image.fromarray(rescaled).rotate(270, expand=True)\n",
    "\n",
    "# Save images as person_67_illum_20.png\n",
    "for illum in range(illum_mat.shape[1]):\n",
    "    for person in range(illum_mat.shape[2]):\n",
    "        # Create class folder\n",
    "        person_no, illum_no = '{0:0=2d}'.format(person), '{0:0=2d}'.format(illum)\n",
    "        pathlib.Path(DATAPATH + 'interim/illumination/person{0}'.format(person_no)).mkdir(parents=True, exist_ok=True)\n",
    "        # Create and save image\n",
    "        img = recover_img(illum_mat[:,illum,person])\n",
    "        filename = 'person{0}_illum{1}.png'.format(person_no, illum_no)\n",
    "        img.save(DATAPATH + 'interim/illumination/person{0}/{1}'.format(person_no, filename))"
   ]
  },
  {
   "cell_type": "code",
   "execution_count": 150,
   "metadata": {},
   "outputs": [],
   "source": [
    "# Check if image is Png\n",
    "def isPng(filename): return filename.endswith(\".png\") and '.ipynb_checkpoints' not in filename\n",
    "\n",
    "# Create test/train split\n",
    "random.seed(999)\n",
    "split = 0.8  # 80% of 21 illuminations will be ceilinged to 17, or ~81%\n",
    "train, test = [], []\n",
    "subdir = DATAPATH + 'interim/illumination/'\n",
    "dirs = next(os.walk(subdir))[1]  # class folders\n",
    "for dir in dirs:\n",
    "    filenames = os.listdir(subdir + dir)\n",
    "    img_filenames = [filename for filename in filenames if isPng(filename)]\n",
    "    img_filepaths = [subdir + dir + os.sep + img_filename for img_filename in img_filenames]\n",
    "    random.shuffle(img_filepaths) # shuffle class images so train/test have same distribution\n",
    "    train = train + img_filepaths[:int(split*len(filenames))]\n",
    "    test = test + img_filepaths[int(split*len(filenames)):]\n",
    "\n",
    "def name_to_int(s):\n",
    "    no_alpha = ''.join(i for i in s if not i.isalpha())\n",
    "    return int(no_alpha)\n",
    "\n",
    "def parse_filename(s): \n",
    "    person, illum = s[:-4].split('_')\n",
    "    return name_to_int(person), name_to_int(illum)\n"
   ]
  },
  {
   "cell_type": "code",
   "execution_count": null,
   "metadata": {},
   "outputs": [],
   "source": [
    "# Preprocess images\n",
    "\n",
    "def load_image(filepath):\n",
    "    misc.imread('face.png')"
   ]
  }
 ],
 "metadata": {
  "kernelspec": {
   "display_name": "Python 3",
   "language": "python",
   "name": "python3"
  },
  "language_info": {
   "codemirror_mode": {
    "name": "ipython",
    "version": 3
   },
   "file_extension": ".py",
   "mimetype": "text/x-python",
   "name": "python",
   "nbconvert_exporter": "python",
   "pygments_lexer": "ipython3",
   "version": "3.6.4"
  }
 },
 "nbformat": 4,
 "nbformat_minor": 2
}
